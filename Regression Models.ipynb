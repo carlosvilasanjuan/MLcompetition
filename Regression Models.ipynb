{
 "cells": [
  {
   "cell_type": "code",
   "execution_count": 1,
   "metadata": {},
   "outputs": [],
   "source": [
    "import pandas as pd\n",
    "from sklearn.model_selection import train_test_split\n",
    "from sklearn.linear_model import LinearRegression\n",
    "from sklearn.metrics import mean_squared_error"
   ]
  },
  {
   "cell_type": "code",
   "execution_count": 2,
   "metadata": {},
   "outputs": [],
   "source": [
    "t_data  = pd.read_csv('data/train.csv')"
   ]
  },
  {
   "cell_type": "code",
   "execution_count": 3,
   "metadata": {},
   "outputs": [],
   "source": [
    "p_data = pd.read_csv('data/predict.csv')"
   ]
  },
  {
   "cell_type": "code",
   "execution_count": 4,
   "metadata": {},
   "outputs": [
    {
     "name": "stdout",
     "output_type": "stream",
     "text": [
      "t_nulls:0\n",
      "p_nulls:0\n"
     ]
    }
   ],
   "source": [
    "# Checking null values\n",
    "print(f\"t_nulls:{t_data.isna().sum().sum()}\")\n",
    "print(f\"p_nulls:{p_data.isna().sum().sum()}\")"
   ]
  },
  {
   "cell_type": "markdown",
   "metadata": {},
   "source": [
    "## Model 1: Plain Vanila ML Linear Regression"
   ]
  },
  {
   "cell_type": "code",
   "execution_count": 5,
   "metadata": {},
   "outputs": [
    {
     "name": "stdout",
     "output_type": "stream",
     "text": [
      "\n",
      " train_y_pred:[6613.17213277  741.42472256 7199.99145705 ... 1401.04099596 8425.39094533\n",
      "  960.48102513]\n",
      "\n",
      " test_y_pred:[  214.0648779  16870.23089717  1565.04808358 ...  3698.37328803\n",
      "  1819.72192038  5730.42376739]\n",
      "rmse_train:1502.3429346641055\n"
     ]
    }
   ],
   "source": [
    "# Plain Vanilla ML Regression model\n",
    "\n",
    "# I. Developing the model with train\n",
    "\n",
    "# X and Y splitting\n",
    "y = t_data['price']\n",
    "X = t_data.drop(columns=['price','id','cut','color', 'clarity'])\n",
    "\n",
    "# 1. Train-Test Split\n",
    "X_train, X_test, y_train, y_test = train_test_split(X, y, test_size = .20, random_state=1)\n",
    "\n",
    "# 2. LR Call & Fit\n",
    "lr = LinearRegression()\n",
    "lr.fit(X_train, y_train)\n",
    "\n",
    "# 3. Prediction and outputs\n",
    "train_y_pred = lr.predict(X_train)\n",
    "test_y_pred = lr.predict(X_test)\n",
    "\n",
    "\n",
    "print(f'\\n train_y_pred:{train_y_pred}')\n",
    "print(f'\\n test_y_pred:{test_y_pred}')\n",
    "\n",
    "#1.RMSE\n",
    "# -train \n",
    "rmse_train = mean_squared_error(y_true= y_train, y_pred= train_y_pred, squared=False)\n",
    "print(f'rmse_train:{rmse_train}')\n",
    "\n",
    "# Plain Vanilla ML Regression model\n",
    "\n",
    "# X and Y splitting\n",
    "\n",
    "X = p_data.drop(columns=['id','cut','color', 'clarity'])\n",
    "\n",
    "y_pred = lr.predict(X)\n",
    "\n",
    "\n"
   ]
  },
  {
   "cell_type": "code",
   "execution_count": null,
   "metadata": {},
   "outputs": [],
   "source": []
  },
  {
   "cell_type": "code",
   "execution_count": null,
   "metadata": {},
   "outputs": [],
   "source": []
  },
  {
   "cell_type": "markdown",
   "metadata": {},
   "source": [
    "## Model 2: Random Forest"
   ]
  },
  {
   "cell_type": "code",
   "execution_count": 6,
   "metadata": {},
   "outputs": [
    {
     "name": "stdout",
     "output_type": "stream",
     "text": [
      "rmse_train:227.6638111861182\n",
      "rmse_test:557.9186600978602\n",
      "rmse_global:322.0548012312642\n"
     ]
    }
   ],
   "source": [
    "# Import Model specific modules\n",
    "from sklearn.model_selection import train_test_split\n",
    "from sklearn.preprocessing import StandardScaler\n",
    "from sklearn.ensemble import RandomForestRegressor\n",
    "\n",
    "# Calling Scaler\n",
    "sc = StandardScaler()\n",
    "\n",
    "# X and Y & Scalling\n",
    "y = t_data['price']\n",
    "X = sc.fit_transform(pd.get_dummies(t_data.drop(columns=['price','id'])))\n",
    "\n",
    "# 1. Train-Test Split\n",
    "X_train, X_test, y_train, y_test = train_test_split(X, y, test_size = .20, random_state=1)\n",
    "\n",
    "# Fitting & Predicting in Train \n",
    "regressor = RandomForestRegressor(n_estimators=20, random_state=0)\n",
    "regressor.fit(X_train, y_train)\n",
    "\n",
    "# Predicting in Train\n",
    "train_y_pred = regressor.predict(X_train)\n",
    "test_y_pred = regressor.predict(X_test)\n",
    "global_y_pred = regressor.predict(X)\n",
    "\n",
    "# Evaluating Train Prediction\n",
    "rmse_train = mean_squared_error(y_true= y_train, y_pred= train_y_pred, squared=False)\n",
    "print(f'rmse_train:{rmse_train}')\n",
    "\n",
    "rmse_test = mean_squared_error(y_true= y_test, y_pred= test_y_pred, squared=False)\n",
    "print(f'rmse_test:{rmse_test}')\n",
    "\n",
    "rmse_global = mean_squared_error(y_true= y, y_pred= global_y_pred, squared=False)\n",
    "print(f'rmse_global:{rmse_global}')\n",
    "\n",
    "\n",
    "# Generating output on predict.csv_data\n",
    "regressor.fit(X, y)\n",
    "regressor.fit(X, y)\n",
    "\n",
    "\n",
    "X = sc.fit_transform(pd.get_dummies(t_data.drop(columns=['price','id'])))\n",
    "\n",
    "\n",
    "y_pred = regressor.predict(X)\n",
    "\n",
    "X = sc.fit_transform(pd.get_dummies(p_data.drop(columns=['id'])))\n",
    "\n",
    "\n",
    "y_pred = regressor.predict(X)"
   ]
  },
  {
   "cell_type": "code",
   "execution_count": 7,
   "metadata": {},
   "outputs": [],
   "source": [
    "# Looks like the model is overfitting"
   ]
  },
  {
   "cell_type": "code",
   "execution_count": null,
   "metadata": {},
   "outputs": [],
   "source": []
  },
  {
   "cell_type": "code",
   "execution_count": null,
   "metadata": {},
   "outputs": [],
   "source": []
  },
  {
   "cell_type": "markdown",
   "metadata": {},
   "source": [
    "## Model 3: Lasso Linear Regression"
   ]
  },
  {
   "cell_type": "code",
   "execution_count": 8,
   "metadata": {},
   "outputs": [
    {
     "name": "stdout",
     "output_type": "stream",
     "text": [
      "rmse_train:1139.5514861366867\n",
      "rmse_test:1113.131335053029\n"
     ]
    }
   ],
   "source": [
    "from sklearn.linear_model import Lasso\n",
    "\n",
    "# Calling Scaler\n",
    "sc = StandardScaler()\n",
    "\n",
    "# X and Y & Scalling\n",
    "y = t_data['price']\n",
    "X = sc.fit_transform(pd.get_dummies(t_data.drop(columns=['price','id'])))\n",
    "\n",
    "# Train Test Split\n",
    "X_train,X_test,y_train,y_test=train_test_split(X,y, test_size=0.3, random_state=31)\n",
    "\n",
    "# Lasso Call & Fit\n",
    "lasso = Lasso()\n",
    "lasso.fit(X_train,y_train)\n",
    "\n",
    "# RMSE\n",
    "rmse_train=mean_squared_error(y_train,lasso.predict(X_train),squared=False)\n",
    "print(f'rmse_train:{rmse_train}')\n",
    "\n",
    "rmse_test=mean_squared_error(y_test,lasso.predict(X_test),squared=False)\n",
    "print(f'rmse_test:{rmse_test}')\n",
    "\n",
    "\n"
   ]
  },
  {
   "cell_type": "code",
   "execution_count": null,
   "metadata": {},
   "outputs": [],
   "source": []
  }
 ],
 "metadata": {
  "kernelspec": {
   "display_name": "Python 3",
   "language": "python",
   "name": "python3"
  },
  "language_info": {
   "codemirror_mode": {
    "name": "ipython",
    "version": 3
   },
   "file_extension": ".py",
   "mimetype": "text/x-python",
   "name": "python",
   "nbconvert_exporter": "python",
   "pygments_lexer": "ipython3",
   "version": "3.8.5"
  }
 },
 "nbformat": 4,
 "nbformat_minor": 4
}
